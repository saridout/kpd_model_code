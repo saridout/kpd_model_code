{
 "cells": [
  {
   "cell_type": "code",
   "execution_count": null,
   "id": "37fe2bce-e5d9-4d70-afef-18901ab2d6ac",
   "metadata": {
    "tags": []
   },
   "outputs": [],
   "source": [
    "\"\"\"\n",
    "This notebook generates all data found in the paper.\n",
    "On a newish laptop, it should run in ~20 minutes.\n",
    "\"\"\"\n",
    "\n",
    "\n",
    "\n",
    "from jax import config\n",
    "config.update(\"jax_enable_x64\", True)\n",
    "\n",
    "import jax.numpy as jnp\n",
    "import numpy as np\n",
    "import pickle\n",
    "\n",
    "\n",
    "import models\n",
    "\n",
    "import matplotlib.pyplot as plt"
   ]
  },
  {
   "cell_type": "raw",
   "id": "aa521a7b-5c41-4dab-a509-b2bfc66f9837",
   "metadata": {},
   "source": []
  },
  {
   "cell_type": "code",
   "execution_count": null,
   "id": "e18ad9e0-2d19-4632-925a-8cf025e47015",
   "metadata": {
    "tags": []
   },
   "outputs": [],
   "source": [
    "def fn(n):\n",
    "    return \"../data/fig_\"+str(n)+\".pkl\"\n",
    "\n",
    "\n",
    "g = 432\n",
    "I0 = 5\n",
    "S_E = 1.44\n",
    "S_I = 0.72\n",
    "m0 = 864*10\n",
    "\n",
    "common_params = dict(m_0 = m0, M=0, S_E=S_E, S_I=S_I, I_0=I0, γ=g, f_K=np.sqrt(20000), f_n=2)\n",
    "uncommon_params = {}\n",
    "uncommon_params[\"A\"] = dict(k_r=1/24, g_K=4000, g_n=2, g_k=116)\n",
    "uncommon_params[\"B\"] = dict(k_r=1/24, g_K=4000, g_n=2, g_k=1700)\n",
    "uncommon_params[\"C\"] = dict(k_r=1/36, g_K=4000, g_n=2, g_k=1700*1.5)\n",
    "\n",
    "\n",
    "#set beta_tot to give fasting G of 110 before the emergency\n",
    "for key in [\"A\", \"B\", \"C\"]:\n",
    "    params = dict(G_0=110.0, **common_params, **uncommon_params[key] )\n",
    "    B0 = g*models.adaptive_beta(params)\n",
    "    uncommon_params[key][\"beta_tot\"] = B0\n",
    "        \n",
    "\n",
    "small_meal_rate = 300.0\n",
    "large_meal_rate = 8500.0\n",
    "insulin_rate = 70.0*g/100 \n",
    "\n",
    "def fig_2_data(params_A, params_B, params_C, params_D, sp_A, sp_B, sp_C, sp_D):\n",
    "    g_A = models.full_simulation(params_A,**sp_A)[0]\n",
    "    g_B = models.full_simulation(params_B, **sp_B)[0]\n",
    "    g_C = models.full_simulation(params_C, **sp_C)[0]\n",
    "    temp = models.full_simulation(params_D, **sp_D)\n",
    "    g_D, t = temp[0], temp[-1]\n",
    "    \n",
    "    with open(fn(2), \"wb\") as f:\n",
    "        pickle.dump(dict(t=t, A=dict(G=g_A, sp=sp_A), B=dict(G=g_B, sp=sp_B), C=dict(G=g_C, sp=sp_C), D=dict(G=g_D, sp=sp_D)), f)\n",
    "    \n",
    "\n",
    "\n",
    "def fig_3_data(params_A, params_B):\n",
    "    #fasting_beta_rates_B = models.intermediate_rates(params_B, meal_insulin_schedule=[(1.0,0.0, 0.0)], resolution=0.01)\n",
    "    #fasting_beta_rates_A = models.intermediate_rates(params_A, meal_insulin_schedule=[(1.0,0.0, 0.0)], resolution=0.01)\n",
    "    B0 = params_B['beta_tot']\n",
    "    A = models.r_table(params_A, a_list = jnp.array([0.0]), SI_range=[S_I, 116], SI_samples=1, beta_range=[0.001, B0], beta_samples=3000)\n",
    "\n",
    "    B = models.r_table(params_B, a_list = jnp.array([0.0]), SI_range=[S_I, 116], SI_samples=1, beta_range=[0.001, B0], beta_samples=3000)\n",
    "    with open(fn(3), \"wb\") as f:\n",
    "        pickle.dump(dict(A=dict(b=A['beta'].values/ B0, d=params_A['k_r']*((1-A['beta'].values/ B0) - A['r'].values*(A['beta'].values/ B0)) ),\n",
    "                         B=dict(b=B['beta'].values/ B0, d=params_B['k_r']*((1-B['beta'].values/ B0) - B['r'].values*(B['beta'].values/ B0) ))), f)\n",
    "        \n",
    "def fig_4_data(params_A, params_B,insulin_rate):\n",
    "\n",
    "    \n",
    "    B0_B = params_B['beta_tot']\n",
    "\n",
    "    rates = models.r_table(params_B, a_list = jnp.array([small_meal_rate, large_meal_rate,]), SI_range=[S_I, 116], SI_samples=1, beta_range=[0.001, 3*B0_B], beta_samples=3000)\n",
    "    rates_I = models.r_table(params_B, a_list = jnp.array([small_meal_rate]), F_I=insulin_rate, SI_range=[S_I, 116], SI_samples=1, beta_range=[0.001, 3*B0_B], beta_samples=3000)\n",
    "\n",
    "\n",
    "    output = {}\n",
    "    output[\"A\"] = {}\n",
    "    output[\"B\"] = {}\n",
    "\n",
    "    s_small = rates[rates['a']==small_meal_rate]\n",
    "    s_large = rates[rates['a']==large_meal_rate]\n",
    "    s_I = rates_I\n",
    "\n",
    "    s_small = s_small[s_small['beta'] <= B0_B]\n",
    "    s_large = s_large[s_large['beta'] <= B0_B]\n",
    "    s_I = s_I[s_I['beta'] <= B0_B]\n",
    "\n",
    "\n",
    "    output[\"B\"][\"normal\"] = dict(b=s_small['beta'].values/ B0_B, d= params_B['k_r']*((1-s_small['beta'].values/ B0_B) - s_small['r'].values*(s_small['beta'].values/ B0_B)))\n",
    "    output[\"B\"][\"sugar\"] = dict(b=s_large['beta'].values/ B0_B, d= params_B['k_r']*((1-s_large['beta'].values/ B0_B) - s_large['r'].values*(s_large['beta'].values/ B0_B)))\n",
    "    output[\"B\"][\"insulin\"] = dict(b=s_I['beta'].values/ B0_B, d=params_B['k_r']*((1-s_I['beta'].values/ B0_B) - s_I['r'].values*(s_I['beta'].values/ B0_B)))\n",
    "\n",
    "    rates = models.r_table(params_A, a_list = jnp.array([small_meal_rate, large_meal_rate]), SI_range=[S_I, 116], SI_samples=1, beta_range=[0.001, 3*B0_B], beta_samples=3000)\n",
    "    s_small = rates[rates['a']==small_meal_rate]\n",
    "    s_large = rates[rates['a']==large_meal_rate]\n",
    "    s_small = s_small[s_small['beta'] <= B0_B]\n",
    "    s_large = s_large[s_large['beta'] <= B0_B]\n",
    "\n",
    "    output[\"A\"][\"normal\"] = dict(b=s_small['beta'].values/ B0_B, d= params_A['k_r']*((1-s_small['beta'].values/ B0_B) - s_small['r'].values*(s_small['beta'].values/ B0_B)))\n",
    "    output[\"A\"][\"sugar\"] = dict(b=s_large['beta'].values/ B0_B, d= params_A['k_r']*((1-s_large['beta'].values/ B0_B) - s_large['r'].values*(s_large['beta'].values/ B0_B)))\n",
    "\n",
    "    with open(fn(4), \"wb\") as f:\n",
    "        pickle.dump(output, f)\n",
    "        \n",
    "def fig_5_data(params_A, params_B):\n",
    "    B0_B = params_B['beta_tot']\n",
    "\n",
    "    data = {}\n",
    "    data['A'] = models.SI_beta_scan(params_A, SI_range=[0.1, 3.0], beta_range=[0, 3*B0_B], SI_samples=100,beta_samples=100, G_0=80,a=0.0)\n",
    "    data['B'] = models.SI_beta_scan(params_B, SI_range=[0.1, 3.0], beta_range=[0, 3*B0_B], SI_samples=100,beta_samples=100, G_0=80,a=0.0,table_beta_samples=6000)\n",
    "\n",
    "    with open(fn(5), \"wb\") as f:\n",
    "        pickle.dump(data, f)\n",
    "        \n"
   ]
  },
  {
   "cell_type": "code",
   "execution_count": null,
   "id": "b5d109ea-dfcc-4cc5-b692-2e6a102923a6",
   "metadata": {
    "tags": []
   },
   "outputs": [],
   "source": [
    "%%time \n",
    "params_A = dict(**common_params, **uncommon_params[\"A\"], k_d=1e-3)    \n",
    "params_A['β'] = params_A['beta_tot']  / params_A['γ']\n",
    "params_B = dict(**common_params, **uncommon_params[\"B\"], k_d=1e-3)\n",
    "params_B['β'] = params_B['beta_tot']  / params_B['γ']\n",
    "params_C = dict(**common_params, **uncommon_params[\"C\"], k_d=1e-3)\n",
    "params_C['β'] = params_C['beta_tot']  / params_C['γ']\n",
    "params_D = dict(**common_params, **uncommon_params[\"C\"], k_d=7*1e-2)\n",
    "params_D['β'] = params_D['beta_tot']  / params_D['γ']\n",
    "\n",
    "sp_default = dict(pre_sugar_days=14, sugar_days=28, post_sugar_days=7, insulin_days=28, post_insulin_days=140,low_sugar=small_meal_rate, high_sugar=large_meal_rate, insulin=insulin_rate)\n",
    "sim_params = {}\n",
    "for key, extra_insulin_days in zip([\"A\", \"B\",\"C\",\"D\"], [-28, 0, 28, 56]):\n",
    "    sim_params[key] = dict(sp_default,insulin_days=sp_default[\"insulin_days\"]+extra_insulin_days, post_insulin_days=sp_default[\"post_insulin_days\"]-extra_insulin_days)\n",
    "\n",
    "fig_2_data(params_A, params_B, params_C, params_D, sim_params[\"A\"], sim_params[\"B\"], sim_params[\"C\"], sim_params[\"D\"])\n",
    "fig_3_data(params_A, params_B)\n",
    "fig_4_data(params_A, params_B, insulin_rate)\n",
    "blah = fig_5_data(params_A, params_B)\n"
   ]
  },
  {
   "cell_type": "code",
   "execution_count": null,
   "id": "35b4070d-f987-4976-80ad-4800491a31ef",
   "metadata": {
    "tags": []
   },
   "outputs": [],
   "source": [
    "#check rate of β-cell decline at 150 mg/dL glucose, as mentioned in discussion\n",
    "models.evaluate(models.hill(params_B[\"g_K\"], params_B[\"g_n\"], params_B[\"g_k\"]*params_B[\"k_r\"]), 150.0)"
   ]
  },
  {
   "cell_type": "code",
   "execution_count": null,
   "id": "3f0e4d6c-19be-4d5e-b2c6-c4b0636dc3fa",
   "metadata": {
    "tags": []
   },
   "outputs": [],
   "source": [
    "#estimate grams of sugar produced per day if rate = 2 mg/(kg min), then estimate corresponding rate in units of mg/(dL day)\n",
    "#for discussion in methods section\n",
    "rate = 2\n",
    "body_mass = 70\n",
    "minutes_in_day = 24*60\n",
    "grams_per_mg = 0.001\n",
    "print(\"rough amount of sugar produced per day (grams):\",rate*body_mass*minutes_in_day*grams_per_mg)\n",
    "\n",
    "body_plasma = 35 #3.5 L, in dL\n",
    "print(\"rough HGP rate\", rate*body_mass*minutes_in_day/body_plasma)\n",
    "\n"
   ]
  },
  {
   "cell_type": "code",
   "execution_count": null,
   "id": "1d16d1f8-236a-4fc6-aa78-c8faa3f6c798",
   "metadata": {
    "tags": []
   },
   "outputs": [],
   "source": []
  },
  {
   "cell_type": "code",
   "execution_count": null,
   "id": "6c881ece-15af-4575-8dc1-81faec88b4d2",
   "metadata": {
    "tags": []
   },
   "outputs": [],
   "source": []
  },
  {
   "cell_type": "code",
   "execution_count": null,
   "id": "e25b6420-6d02-4ea0-a5cb-d9279f4122a6",
   "metadata": {
    "tags": []
   },
   "outputs": [],
   "source": []
  },
  {
   "cell_type": "code",
   "execution_count": null,
   "id": "c22fc29d-fed4-4e7c-8d1b-570043ca4215",
   "metadata": {
    "tags": []
   },
   "outputs": [],
   "source": []
  },
  {
   "cell_type": "code",
   "execution_count": null,
   "id": "fcaefc49-9d8d-448a-8027-5640bcd7a3fe",
   "metadata": {
    "tags": []
   },
   "outputs": [],
   "source": []
  },
  {
   "cell_type": "code",
   "execution_count": null,
   "id": "405d0a31-5300-49af-a892-63f1d30497a7",
   "metadata": {
    "tags": []
   },
   "outputs": [],
   "source": []
  },
  {
   "cell_type": "code",
   "execution_count": null,
   "id": "d72d9106-b3ac-4845-abd9-148006147e90",
   "metadata": {
    "tags": []
   },
   "outputs": [],
   "source": []
  },
  {
   "cell_type": "code",
   "execution_count": null,
   "id": "f874cae5-51bd-4464-a284-b356f74f8986",
   "metadata": {
    "tags": []
   },
   "outputs": [],
   "source": []
  },
  {
   "cell_type": "code",
   "execution_count": null,
   "id": "97769623-23aa-4b05-81df-60a7e15a6968",
   "metadata": {
    "tags": []
   },
   "outputs": [],
   "source": []
  },
  {
   "cell_type": "code",
   "execution_count": null,
   "id": "ecc79043-b851-463f-8092-fc64621bddc0",
   "metadata": {
    "tags": []
   },
   "outputs": [],
   "source": []
  },
  {
   "cell_type": "code",
   "execution_count": null,
   "id": "c95eac81-9fc7-4dda-a5ae-c27897299241",
   "metadata": {},
   "outputs": [],
   "source": []
  },
  {
   "cell_type": "code",
   "execution_count": null,
   "id": "b349b6df-1fd0-45de-8ee7-c3eb05246e8c",
   "metadata": {},
   "outputs": [],
   "source": []
  },
  {
   "cell_type": "code",
   "execution_count": null,
   "id": "db8c2af3-1e06-4b26-b743-3dddca98abf5",
   "metadata": {
    "tags": []
   },
   "outputs": [],
   "source": []
  },
  {
   "cell_type": "code",
   "execution_count": null,
   "id": "319d6c79-acca-458d-9f6e-433f6b87d735",
   "metadata": {},
   "outputs": [],
   "source": []
  },
  {
   "cell_type": "code",
   "execution_count": null,
   "id": "a6ee9395-82e0-4b7a-8378-dad177f7d1af",
   "metadata": {
    "tags": []
   },
   "outputs": [],
   "source": []
  },
  {
   "cell_type": "code",
   "execution_count": null,
   "id": "32be3c36-e26e-4770-a82f-cc76249467ff",
   "metadata": {},
   "outputs": [],
   "source": []
  }
 ],
 "metadata": {
  "kernelspec": {
   "display_name": "Python 3 (ipykernel)",
   "language": "python",
   "name": "python3"
  },
  "language_info": {
   "codemirror_mode": {
    "name": "ipython",
    "version": 3
   },
   "file_extension": ".py",
   "mimetype": "text/x-python",
   "name": "python",
   "nbconvert_exporter": "python",
   "pygments_lexer": "ipython3",
   "version": "3.11.5"
  }
 },
 "nbformat": 4,
 "nbformat_minor": 5
}
